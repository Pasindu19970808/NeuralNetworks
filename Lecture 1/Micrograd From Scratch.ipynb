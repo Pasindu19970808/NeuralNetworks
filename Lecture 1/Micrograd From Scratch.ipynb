{
 "cells": [
  {
   "cell_type": "code",
   "execution_count": 48,
   "metadata": {},
   "outputs": [],
   "source": [
    "import math\n",
    "import numpy as np\n",
    "import matplotlib.pyplot as plt\n",
    "import os\n",
    "import graphviz\n",
    "from graphviz import Digraph\n",
    "#https://stackoverflow.com/questions/52472611/how-do-i-make-sure-the-graphviz-executables-are-on-my-systems-path\n",
    "os.environ[\"PATH\"] += os.pathsep + r'C:/Program Files/Graphviz/bin/'\n",
    "%matplotlib inline"
   ]
  },
  {
   "cell_type": "code",
   "execution_count": 49,
   "metadata": {},
   "outputs": [],
   "source": [
    "def f(x):\n",
    "    return 3*x**2 - 4*x + 5"
   ]
  },
  {
   "cell_type": "code",
   "execution_count": 50,
   "metadata": {},
   "outputs": [
    {
     "data": {
      "text/plain": [
       "20.0"
      ]
     },
     "execution_count": 50,
     "metadata": {},
     "output_type": "execute_result"
    }
   ],
   "source": [
    "f(3.0)"
   ]
  },
  {
   "cell_type": "code",
   "execution_count": 51,
   "metadata": {},
   "outputs": [
    {
     "data": {
      "text/plain": [
       "array([100.    ,  91.6875,  83.75  ,  76.1875,  69.    ,  62.1875,\n",
       "        55.75  ,  49.6875,  44.    ,  38.6875,  33.75  ,  29.1875,\n",
       "        25.    ,  21.1875,  17.75  ,  14.6875,  12.    ,   9.6875,\n",
       "         7.75  ,   6.1875,   5.    ,   4.1875,   3.75  ,   3.6875,\n",
       "         4.    ,   4.6875,   5.75  ,   7.1875,   9.    ,  11.1875,\n",
       "        13.75  ,  16.6875,  20.    ,  23.6875,  27.75  ,  32.1875,\n",
       "        37.    ,  42.1875,  47.75  ,  53.6875])"
      ]
     },
     "execution_count": 51,
     "metadata": {},
     "output_type": "execute_result"
    }
   ],
   "source": [
    "xs = np.arange(-5,5,0.25)\n",
    "ys = f(xs)\n",
    "ys"
   ]
  },
  {
   "cell_type": "code",
   "execution_count": 52,
   "metadata": {},
   "outputs": [
    {
     "data": {
      "text/plain": [
       "-21.996999999998934"
      ]
     },
     "execution_count": 52,
     "metadata": {},
     "output_type": "execute_result"
    }
   ],
   "source": [
    "h = 0.001\n",
    "x = -3.0\n",
    "(f(x + h) - f(x))/h"
   ]
  },
  {
   "cell_type": "code",
   "execution_count": 53,
   "metadata": {},
   "outputs": [
    {
     "data": {
      "text/plain": [
       "4.0"
      ]
     },
     "execution_count": 53,
     "metadata": {},
     "output_type": "execute_result"
    }
   ],
   "source": [
    "a = 2.0\n",
    "b = -3.0\n",
    "c = 10.0\n",
    "d = a*b + c\n",
    "d"
   ]
  },
  {
   "cell_type": "code",
   "execution_count": 54,
   "metadata": {},
   "outputs": [
    {
     "name": "stdout",
     "output_type": "stream",
     "text": [
      "slope -3.000000000010772\n"
     ]
    }
   ],
   "source": [
    "h = 0.0001\n",
    "\n",
    "a = 2.0\n",
    "b = -3.0\n",
    "c = 10.0\n",
    "\n",
    "d1 = a*b + c\n",
    "a += h\n",
    "d2 = a*b + c\n",
    "\n",
    "print('slope',(d2 - d1)/h)"
   ]
  },
  {
   "cell_type": "code",
   "execution_count": 55,
   "metadata": {},
   "outputs": [
    {
     "name": "stdout",
     "output_type": "stream",
     "text": [
      "slope 2.0000000000042206\n"
     ]
    }
   ],
   "source": [
    "h = 0.0001\n",
    "\n",
    "a = 2.0\n",
    "b = -3.0\n",
    "c = 10.0\n",
    "\n",
    "d1 = a*b + c\n",
    "b += h\n",
    "d2 = a*b + c\n",
    "\n",
    "print('slope',(d2 - d1)/h)"
   ]
  },
  {
   "cell_type": "code",
   "execution_count": 56,
   "metadata": {},
   "outputs": [
    {
     "name": "stdout",
     "output_type": "stream",
     "text": [
      "slope 0.9999999999976694\n"
     ]
    }
   ],
   "source": [
    "h = 0.0001\n",
    "\n",
    "a = 2.0\n",
    "b = -3.0\n",
    "c = 10.0\n",
    "\n",
    "d1 = a*b + c\n",
    "c += h\n",
    "d2 = a*b + c\n",
    "\n",
    "print('slope',(d2 - d1)/h)"
   ]
  },
  {
   "attachments": {},
   "cell_type": "markdown",
   "metadata": {},
   "source": [
    "Building the Value Object"
   ]
  },
  {
   "cell_type": "code",
   "execution_count": 57,
   "metadata": {},
   "outputs": [
    {
     "data": {
      "text/plain": [
       "Value(data=4.0)"
      ]
     },
     "execution_count": 57,
     "metadata": {},
     "output_type": "execute_result"
    }
   ],
   "source": [
    "class Value:\n",
    "    def __init__(self,data):\n",
    "        self.data = data\n",
    "    def __repr__(self):\n",
    "        return f\"Value(data={self.data})\"\n",
    "    def __add__(self,other):\n",
    "        out = Value(self.data + other.data)\n",
    "        return out\n",
    "    def __mul__(self,other):\n",
    "        out = Value(self.data * other.data)\n",
    "        return out\n",
    "\n",
    "a = Value(2.0)\n",
    "b = Value(-3.0)\n",
    "c = Value(10)\n",
    "a + b\n",
    "a * b\n",
    "a*b + c"
   ]
  },
  {
   "attachments": {},
   "cell_type": "markdown",
   "metadata": {},
   "source": [
    "The above implementation cannot maintain a computation graph. Hence its required that each node/value keep track of which values hold data and connected to it"
   ]
  },
  {
   "cell_type": "code",
   "execution_count": 58,
   "metadata": {},
   "outputs": [
    {
     "data": {
      "text/plain": [
       "Value(data=4.0)"
      ]
     },
     "execution_count": 58,
     "metadata": {},
     "output_type": "execute_result"
    }
   ],
   "source": [
    "class Value:\n",
    "    #when we create a single values Value object, we dont\n",
    "    #pass in any children, however when we do an operation\n",
    "    #we pass in the associated objects to be held as children\n",
    "    def __init__(self,data,_children = ()):\n",
    "        #the input will be a tuple of children\n",
    "        #but the data will be held as a Set\n",
    "        #done for efficiency\n",
    "        self.data = data\n",
    "        self._prev = set(_children)\n",
    "    def __repr__(self):\n",
    "        return f\"Value(data={self.data})\"\n",
    "    def __add__(self,other):\n",
    "        out = Value(self.data + other.data,_children = (self,other))\n",
    "        return out\n",
    "    def __mul__(self,other):\n",
    "        out = Value(self.data * other.data,_children = (self,other))\n",
    "        return out\n",
    "    \n",
    "a = Value(2.0)\n",
    "b = Value(-3.0)\n",
    "c = Value(10)\n",
    "a + b\n",
    "a * b\n",
    "#a*b results in a Value object with _prev\n",
    "#The object from a*b is fed into the addition method\n",
    "#and the final object will also have a _prev\n",
    "d = a*b + c\n",
    "d"
   ]
  },
  {
   "cell_type": "code",
   "execution_count": 59,
   "metadata": {},
   "outputs": [
    {
     "data": {
      "text/plain": [
       "{Value(data=-6.0), Value(data=10)}"
      ]
     },
     "execution_count": 59,
     "metadata": {},
     "output_type": "execute_result"
    }
   ],
   "source": [
    "d._prev"
   ]
  },
  {
   "attachments": {},
   "cell_type": "markdown",
   "metadata": {},
   "source": [
    "Currently we still dont know which operation created the d value"
   ]
  },
  {
   "cell_type": "code",
   "execution_count": 66,
   "metadata": {},
   "outputs": [
    {
     "data": {
      "text/plain": [
       "Value(data=138.0)"
      ]
     },
     "execution_count": 66,
     "metadata": {},
     "output_type": "execute_result"
    }
   ],
   "source": [
    "class Value:\n",
    "    #when we create a single values Value object, we dont\n",
    "    #pass in any children, however when we do an operation\n",
    "    #we pass in the associated objects to be held as children\n",
    "    def __init__(self,data,_children = (),_op = '',label = ''):\n",
    "        #the input will be a tuple of children\n",
    "        #but the data will be held as a Set\n",
    "        #done for efficiency\n",
    "        self.data = data\n",
    "        self._prev = set(_children)\n",
    "        self._op = _op\n",
    "        self.label = label\n",
    "    def __repr__(self):\n",
    "        return f\"Value(data={self.data})\"\n",
    "    def __add__(self,other):\n",
    "        out = Value(self.data + other.data,_children = (self,other),_op = '+')\n",
    "        return out\n",
    "    def __mul__(self,other):\n",
    "        out = Value(self.data * other.data,_children = (self,other),_op = '*')\n",
    "        return out\n",
    "\n",
    "a = Value(2.0,label = 'a')\n",
    "b = Value(-3.0,label = 'b')\n",
    "c = Value(10,label = 'c')\n",
    "d = Value(14,label = 'd')\n",
    "e = Value(-6.0,label = 'e')\n",
    "f = Value(1.0,label = 'f')\n",
    "g = Value(10,label='g')\n",
    "a + b\n",
    "a * b\n",
    "h = a*b + c*d + f*e\n",
    "i = h + g\n",
    "i\n"
   ]
  },
  {
   "cell_type": "code",
   "execution_count": 69,
   "metadata": {},
   "outputs": [
    {
     "data": {
      "text/plain": [
       "{Value(data=-6.0), Value(data=134.0)}"
      ]
     },
     "execution_count": 69,
     "metadata": {},
     "output_type": "execute_result"
    }
   ],
   "source": [
    "h._prev"
   ]
  },
  {
   "attachments": {},
   "cell_type": "markdown",
   "metadata": {},
   "source": [
    "The above expressions are simple. But they get large very fast. Hence we need a way to visualize these functions. "
   ]
  },
  {
   "cell_type": "code",
   "execution_count": 68,
   "metadata": {},
   "outputs": [
    {
     "data": {
      "image/svg+xml": [
       "<?xml version=\"1.0\" encoding=\"UTF-8\" standalone=\"no\"?>\n",
       "<!DOCTYPE svg PUBLIC \"-//W3C//DTD SVG 1.1//EN\"\n",
       " \"http://www.w3.org/Graphics/SVG/1.1/DTD/svg11.dtd\">\n",
       "<!-- Generated by graphviz version 8.0.5 (20230430.1635)\n",
       " -->\n",
       "<!-- Title: computation_graph Pages: 1 -->\n",
       "<svg width=\"684pt\" height=\"431pt\"\n",
       " viewBox=\"0.00 0.00 684.50 431.31\" xmlns=\"http://www.w3.org/2000/svg\" xmlns:xlink=\"http://www.w3.org/1999/xlink\">\n",
       "<g id=\"graph0\" class=\"graph\" transform=\"scale(1 1) rotate(0) translate(4 427.31)\">\n",
       "<title>computation_graph</title>\n",
       "<polygon fill=\"white\" stroke=\"none\" points=\"-4,4 -4,-427.31 680.5,-427.31 680.5,4 -4,4\"/>\n",
       "<!-- 1541438856208 -->\n",
       "<g id=\"node1\" class=\"node\">\n",
       "<title>1541438856208</title>\n",
       "<ellipse fill=\"none\" stroke=\"black\" cx=\"59.57\" cy=\"-303.52\" rx=\"59.57\" ry=\"27.93\"/>\n",
       "<text text-anchor=\"middle\" x=\"59.57\" y=\"-305.97\" font-family=\"Times New Roman,serif\" font-size=\"14.00\">f </text>\n",
       "<text text-anchor=\"middle\" x=\"59.57\" y=\"-290.22\" font-family=\"Times New Roman,serif\" font-size=\"14.00\"> Value = 1.0</text>\n",
       "</g>\n",
       "<!-- 1541438855056 -->\n",
       "<g id=\"node12\" class=\"node\">\n",
       "<title>1541438855056</title>\n",
       "<ellipse fill=\"none\" stroke=\"black\" cx=\"197.57\" cy=\"-211.65\" rx=\"62.76\" ry=\"27.93\"/>\n",
       "<text text-anchor=\"middle\" x=\"197.57\" y=\"-214.1\" font-family=\"Times New Roman,serif\" font-size=\"14.00\">* </text>\n",
       "<text text-anchor=\"middle\" x=\"197.57\" y=\"-198.35\" font-family=\"Times New Roman,serif\" font-size=\"14.00\"> Value = &#45;6.0</text>\n",
       "</g>\n",
       "<!-- 1541438856208&#45;&gt;1541438855056 -->\n",
       "<g id=\"edge3\" class=\"edge\">\n",
       "<title>1541438856208&#45;&gt;1541438855056</title>\n",
       "<path fill=\"none\" stroke=\"black\" d=\"M93.69,-280.3C111.88,-268.46 134.46,-253.75 153.92,-241.08\"/>\n",
       "<polygon fill=\"black\" stroke=\"black\" points=\"155.43,-243.62 161.9,-235.24 151.61,-237.76 155.43,-243.62\"/>\n",
       "</g>\n",
       "<!-- 1541438854672 -->\n",
       "<g id=\"node2\" class=\"node\">\n",
       "<title>1541438854672</title>\n",
       "<ellipse fill=\"none\" stroke=\"black\" cx=\"487.57\" cy=\"-395.38\" rx=\"56.92\" ry=\"27.93\"/>\n",
       "<text text-anchor=\"middle\" x=\"487.57\" y=\"-397.83\" font-family=\"Times New Roman,serif\" font-size=\"14.00\">c </text>\n",
       "<text text-anchor=\"middle\" x=\"487.57\" y=\"-382.08\" font-family=\"Times New Roman,serif\" font-size=\"14.00\"> Value = 10</text>\n",
       "</g>\n",
       "<!-- 1541438855440 -->\n",
       "<g id=\"node9\" class=\"node\">\n",
       "<title>1541438855440</title>\n",
       "<ellipse fill=\"none\" stroke=\"black\" cx=\"488.57\" cy=\"-303.52\" rx=\"61.7\" ry=\"27.93\"/>\n",
       "<text text-anchor=\"middle\" x=\"488.57\" y=\"-305.97\" font-family=\"Times New Roman,serif\" font-size=\"14.00\">* </text>\n",
       "<text text-anchor=\"middle\" x=\"488.57\" y=\"-290.22\" font-family=\"Times New Roman,serif\" font-size=\"14.00\"> Value = 140</text>\n",
       "</g>\n",
       "<!-- 1541438854672&#45;&gt;1541438855440 -->\n",
       "<g id=\"edge7\" class=\"edge\">\n",
       "<title>1541438854672&#45;&gt;1541438855440</title>\n",
       "<path fill=\"none\" stroke=\"black\" d=\"M487.87,-367.42C487.96,-359.58 488.06,-350.87 488.15,-342.49\"/>\n",
       "<polygon fill=\"black\" stroke=\"black\" points=\"491.66,-342.81 488.27,-332.77 484.66,-342.73 491.66,-342.81\"/>\n",
       "</g>\n",
       "<!-- 1541438855200 -->\n",
       "<g id=\"node3\" class=\"node\">\n",
       "<title>1541438855200</title>\n",
       "<ellipse fill=\"none\" stroke=\"black\" cx=\"346.57\" cy=\"-303.52\" rx=\"62.76\" ry=\"27.93\"/>\n",
       "<text text-anchor=\"middle\" x=\"346.57\" y=\"-305.97\" font-family=\"Times New Roman,serif\" font-size=\"14.00\">* </text>\n",
       "<text text-anchor=\"middle\" x=\"346.57\" y=\"-290.22\" font-family=\"Times New Roman,serif\" font-size=\"14.00\"> Value = &#45;6.0</text>\n",
       "</g>\n",
       "<!-- 1541438856496 -->\n",
       "<g id=\"node10\" class=\"node\">\n",
       "<title>1541438856496</title>\n",
       "<ellipse fill=\"none\" stroke=\"black\" cx=\"347.57\" cy=\"-211.65\" rx=\"69.12\" ry=\"27.93\"/>\n",
       "<text text-anchor=\"middle\" x=\"347.57\" y=\"-214.1\" font-family=\"Times New Roman,serif\" font-size=\"14.00\">+ </text>\n",
       "<text text-anchor=\"middle\" x=\"347.57\" y=\"-198.35\" font-family=\"Times New Roman,serif\" font-size=\"14.00\"> Value = 134.0</text>\n",
       "</g>\n",
       "<!-- 1541438855200&#45;&gt;1541438856496 -->\n",
       "<g id=\"edge1\" class=\"edge\">\n",
       "<title>1541438855200&#45;&gt;1541438856496</title>\n",
       "<path fill=\"none\" stroke=\"black\" d=\"M346.87,-275.55C346.96,-267.72 347.06,-259.01 347.15,-250.63\"/>\n",
       "<polygon fill=\"black\" stroke=\"black\" points=\"350.66,-250.94 347.27,-240.91 343.66,-250.87 350.66,-250.94\"/>\n",
       "</g>\n",
       "<!-- 1541438855248 -->\n",
       "<g id=\"node4\" class=\"node\">\n",
       "<title>1541438855248</title>\n",
       "<ellipse fill=\"none\" stroke=\"black\" cx=\"207.57\" cy=\"-395.38\" rx=\"59.57\" ry=\"27.93\"/>\n",
       "<text text-anchor=\"middle\" x=\"207.57\" y=\"-397.83\" font-family=\"Times New Roman,serif\" font-size=\"14.00\">a </text>\n",
       "<text text-anchor=\"middle\" x=\"207.57\" y=\"-382.08\" font-family=\"Times New Roman,serif\" font-size=\"14.00\"> Value = 2.0</text>\n",
       "</g>\n",
       "<!-- 1541438855248&#45;&gt;1541438855200 -->\n",
       "<g id=\"edge10\" class=\"edge\">\n",
       "<title>1541438855248&#45;&gt;1541438855200</title>\n",
       "<path fill=\"none\" stroke=\"black\" d=\"M241.93,-372.16C260.26,-360.32 283,-345.61 302.6,-332.94\"/>\n",
       "<polygon fill=\"black\" stroke=\"black\" points=\"304.15,-335.47 310.64,-327.1 300.35,-329.59 304.15,-335.47\"/>\n",
       "</g>\n",
       "<!-- 1541438856832 -->\n",
       "<g id=\"node5\" class=\"node\">\n",
       "<title>1541438856832</title>\n",
       "<ellipse fill=\"none\" stroke=\"black\" cx=\"347.57\" cy=\"-395.38\" rx=\"62.76\" ry=\"27.93\"/>\n",
       "<text text-anchor=\"middle\" x=\"347.57\" y=\"-397.83\" font-family=\"Times New Roman,serif\" font-size=\"14.00\">b </text>\n",
       "<text text-anchor=\"middle\" x=\"347.57\" y=\"-382.08\" font-family=\"Times New Roman,serif\" font-size=\"14.00\"> Value = &#45;3.0</text>\n",
       "</g>\n",
       "<!-- 1541438856832&#45;&gt;1541438855200 -->\n",
       "<g id=\"edge9\" class=\"edge\">\n",
       "<title>1541438856832&#45;&gt;1541438855200</title>\n",
       "<path fill=\"none\" stroke=\"black\" d=\"M347.27,-367.42C347.19,-359.58 347.09,-350.87 347,-342.49\"/>\n",
       "<polygon fill=\"black\" stroke=\"black\" points=\"350.49,-342.73 346.88,-332.77 343.49,-342.81 350.49,-342.73\"/>\n",
       "</g>\n",
       "<!-- 1541438855344 -->\n",
       "<g id=\"node6\" class=\"node\">\n",
       "<title>1541438855344</title>\n",
       "<ellipse fill=\"none\" stroke=\"black\" cx=\"199.57\" cy=\"-303.52\" rx=\"62.76\" ry=\"27.93\"/>\n",
       "<text text-anchor=\"middle\" x=\"199.57\" y=\"-305.97\" font-family=\"Times New Roman,serif\" font-size=\"14.00\">e </text>\n",
       "<text text-anchor=\"middle\" x=\"199.57\" y=\"-290.22\" font-family=\"Times New Roman,serif\" font-size=\"14.00\"> Value = &#45;6.0</text>\n",
       "</g>\n",
       "<!-- 1541438855344&#45;&gt;1541438855056 -->\n",
       "<g id=\"edge11\" class=\"edge\">\n",
       "<title>1541438855344&#45;&gt;1541438855056</title>\n",
       "<path fill=\"none\" stroke=\"black\" d=\"M198.97,-275.55C198.8,-267.72 198.61,-259.01 198.42,-250.63\"/>\n",
       "<polygon fill=\"black\" stroke=\"black\" points=\"201.9,-250.83 198.18,-240.91 194.9,-250.98 201.9,-250.83\"/>\n",
       "</g>\n",
       "<!-- 1541438856400 -->\n",
       "<g id=\"node7\" class=\"node\">\n",
       "<title>1541438856400</title>\n",
       "<ellipse fill=\"none\" stroke=\"black\" cx=\"619.57\" cy=\"-395.38\" rx=\"56.92\" ry=\"27.93\"/>\n",
       "<text text-anchor=\"middle\" x=\"619.57\" y=\"-397.83\" font-family=\"Times New Roman,serif\" font-size=\"14.00\">d </text>\n",
       "<text text-anchor=\"middle\" x=\"619.57\" y=\"-382.08\" font-family=\"Times New Roman,serif\" font-size=\"14.00\"> Value = 14</text>\n",
       "</g>\n",
       "<!-- 1541438856400&#45;&gt;1541438855440 -->\n",
       "<g id=\"edge8\" class=\"edge\">\n",
       "<title>1541438856400&#45;&gt;1541438855440</title>\n",
       "<path fill=\"none\" stroke=\"black\" d=\"M587.19,-372.16C570.21,-360.51 549.2,-346.1 530.94,-333.58\"/>\n",
       "<polygon fill=\"black\" stroke=\"black\" points=\"533.18,-330.18 522.95,-327.41 529.22,-335.95 533.18,-330.18\"/>\n",
       "</g>\n",
       "<!-- 1541438855920 -->\n",
       "<g id=\"node8\" class=\"node\">\n",
       "<title>1541438855920</title>\n",
       "<ellipse fill=\"none\" stroke=\"black\" cx=\"272.57\" cy=\"-119.79\" rx=\"69.12\" ry=\"27.93\"/>\n",
       "<text text-anchor=\"middle\" x=\"272.57\" y=\"-122.24\" font-family=\"Times New Roman,serif\" font-size=\"14.00\">+ </text>\n",
       "<text text-anchor=\"middle\" x=\"272.57\" y=\"-106.49\" font-family=\"Times New Roman,serif\" font-size=\"14.00\"> Value = 128.0</text>\n",
       "</g>\n",
       "<!-- 1541438857024 -->\n",
       "<g id=\"node11\" class=\"node\">\n",
       "<title>1541438857024</title>\n",
       "<ellipse fill=\"none\" stroke=\"black\" cx=\"344.57\" cy=\"-27.93\" rx=\"69.12\" ry=\"27.93\"/>\n",
       "<text text-anchor=\"middle\" x=\"344.57\" y=\"-30.38\" font-family=\"Times New Roman,serif\" font-size=\"14.00\">+ </text>\n",
       "<text text-anchor=\"middle\" x=\"344.57\" y=\"-14.63\" font-family=\"Times New Roman,serif\" font-size=\"14.00\"> Value = 138.0</text>\n",
       "</g>\n",
       "<!-- 1541438855920&#45;&gt;1541438857024 -->\n",
       "<g id=\"edge4\" class=\"edge\">\n",
       "<title>1541438855920&#45;&gt;1541438857024</title>\n",
       "<path fill=\"none\" stroke=\"black\" d=\"M293.4,-92.8C300.79,-83.58 309.22,-73.06 317.08,-63.25\"/>\n",
       "<polygon fill=\"black\" stroke=\"black\" points=\"320.27,-65.86 323.8,-55.86 314.81,-61.48 320.27,-65.86\"/>\n",
       "</g>\n",
       "<!-- 1541438855440&#45;&gt;1541438856496 -->\n",
       "<g id=\"edge6\" class=\"edge\">\n",
       "<title>1541438855440&#45;&gt;1541438856496</title>\n",
       "<path fill=\"none\" stroke=\"black\" d=\"M453.72,-280.3C435.42,-268.64 412.76,-254.2 393.09,-241.66\"/>\n",
       "<polygon fill=\"black\" stroke=\"black\" points=\"395.31,-238.29 384.99,-235.86 391.55,-244.19 395.31,-238.29\"/>\n",
       "</g>\n",
       "<!-- 1541438856496&#45;&gt;1541438855920 -->\n",
       "<g id=\"edge5\" class=\"edge\">\n",
       "<title>1541438856496&#45;&gt;1541438855920</title>\n",
       "<path fill=\"none\" stroke=\"black\" d=\"M325.88,-184.66C318.18,-175.44 309.4,-164.92 301.22,-155.11\"/>\n",
       "<polygon fill=\"black\" stroke=\"black\" points=\"303.31,-153.16 294.22,-147.73 297.94,-157.65 303.31,-153.16\"/>\n",
       "</g>\n",
       "<!-- 1541438855056&#45;&gt;1541438855920 -->\n",
       "<g id=\"edge12\" class=\"edge\">\n",
       "<title>1541438855056&#45;&gt;1541438855920</title>\n",
       "<path fill=\"none\" stroke=\"black\" d=\"M218.87,-185.14C226.71,-175.74 235.74,-164.93 244.12,-154.89\"/>\n",
       "<polygon fill=\"black\" stroke=\"black\" points=\"247.25,-157.6 250.97,-147.68 241.87,-153.11 247.25,-157.6\"/>\n",
       "</g>\n",
       "<!-- 1541438854576 -->\n",
       "<g id=\"node13\" class=\"node\">\n",
       "<title>1541438854576</title>\n",
       "<ellipse fill=\"none\" stroke=\"black\" cx=\"416.57\" cy=\"-119.79\" rx=\"56.92\" ry=\"27.93\"/>\n",
       "<text text-anchor=\"middle\" x=\"416.57\" y=\"-122.24\" font-family=\"Times New Roman,serif\" font-size=\"14.00\">g </text>\n",
       "<text text-anchor=\"middle\" x=\"416.57\" y=\"-106.49\" font-family=\"Times New Roman,serif\" font-size=\"14.00\"> Value = 10</text>\n",
       "</g>\n",
       "<!-- 1541438854576&#45;&gt;1541438857024 -->\n",
       "<g id=\"edge2\" class=\"edge\">\n",
       "<title>1541438854576&#45;&gt;1541438857024</title>\n",
       "<path fill=\"none\" stroke=\"black\" d=\"M396.13,-93.28C388.67,-83.97 380.11,-73.28 372.13,-63.33\"/>\n",
       "<polygon fill=\"black\" stroke=\"black\" points=\"374.3,-61.43 365.31,-55.82 368.84,-65.81 374.3,-61.43\"/>\n",
       "</g>\n",
       "</g>\n",
       "</svg>\n"
      ],
      "text/plain": [
       "<graphviz.graphs.Digraph at 0x166e42d1490>"
      ]
     },
     "execution_count": 68,
     "metadata": {},
     "output_type": "execute_result"
    }
   ],
   "source": [
    "def trace(root):\n",
    "    nodes,edges = set(),set()\n",
    "    def build(v):\n",
    "        if v not in nodes:\n",
    "            nodes.add(v)\n",
    "        for i in v._prev:\n",
    "            edges.add((v,i,v._op))\n",
    "            build(i)\n",
    "    build(root)\n",
    "    return nodes,edges\n",
    "\n",
    "def obtain_label(edge):\n",
    "    key_names = {'child_name':None,\n",
    "                 'parent_name':None,\n",
    "                 'operation':None}\n",
    "    child = edge[1]\n",
    "    parent = edge[0]\n",
    "    op = edge[2]\n",
    "    if child.label == '':\n",
    "        key_names['child_name'] = f\"{child._op} \\n Value = {child.data}\"\n",
    "    else:\n",
    "        key_names['child_name'] = child.label\n",
    "    if parent.label == '':\n",
    "        key_names['parent_name'] = f\"{parent._op} \\n Value = {parent.data}\"\n",
    "    else:\n",
    "        key_names['parent_name'] = parent.label\n",
    "    key_names['operation'] = op\n",
    "    return key_names\n",
    "\n",
    "\n",
    "\n",
    "\n",
    "def build_graph(root):\n",
    "    nodes,edges = trace(root)\n",
    "    dot = graphviz.Digraph('computation_graph')\n",
    "    # id_node_dict = {}\n",
    "    for node in nodes:\n",
    "        if node.label != '':\n",
    "            uid = str(id(node))\n",
    "            dot.node(uid,label = f\"{node.label} \\n Value = {node.data}\")\n",
    "        else:\n",
    "            #this means its a result of an operation\n",
    "            uid = str(id(node))\n",
    "            dot.node(uid,label = f\"{node._op} \\n Value = {node.data}\")\n",
    "    for edge in edges:\n",
    "        # required_data = obtain_label(edge)\n",
    "        # dot.edge(required_data['child_name'],required_data['parent_name'])\n",
    "        dot.edge(str(id(edge[1])),str(id(edge[0])))\n",
    "    return dot\n",
    "\n",
    "build_graph(i)"
   ]
  },
  {
   "cell_type": "code",
   "execution_count": null,
   "metadata": {},
   "outputs": [],
   "source": []
  }
 ],
 "metadata": {
  "kernelspec": {
   "display_name": "Python 3",
   "language": "python",
   "name": "python3"
  },
  "language_info": {
   "codemirror_mode": {
    "name": "ipython",
    "version": 3
   },
   "file_extension": ".py",
   "mimetype": "text/x-python",
   "name": "python",
   "nbconvert_exporter": "python",
   "pygments_lexer": "ipython3",
   "version": "3.8.8"
  },
  "orig_nbformat": 4
 },
 "nbformat": 4,
 "nbformat_minor": 2
}

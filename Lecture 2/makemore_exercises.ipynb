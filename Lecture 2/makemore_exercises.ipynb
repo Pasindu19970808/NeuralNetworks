{
 "cells": [
  {
   "cell_type": "code",
   "execution_count": 35,
   "metadata": {},
   "outputs": [],
   "source": [
    "import numpy as np\n",
    "import torch\n",
    "import matplotlib.pyplot as plt\n",
    "from collections import Counter\n",
    "import itertools\n",
    "import torch.nn.functional as f"
   ]
  },
  {
   "cell_type": "code",
   "execution_count": 11,
   "metadata": {},
   "outputs": [],
   "source": [
    "with open(r\"names.txt\",'r') as f:\n",
    "    words = [i.strip('\\n') for i in f.readlines()]"
   ]
  },
  {
   "attachments": {},
   "cell_type": "markdown",
   "metadata": {},
   "source": [
    "Building a TriGram Language Model"
   ]
  },
  {
   "cell_type": "code",
   "execution_count": 12,
   "metadata": {},
   "outputs": [],
   "source": [
    "#get all characters \n",
    "chars = sorted(list(set(''.join(words))))\n",
    "bigram_starts = [''.join([i,j]) for i,j in list(itertools.permutations(chars,2))]\n",
    "bigram_with_dot = [''.join(['.',i]) for i in chars]\n",
    "bigram_with_itself = [''.join([i,i]) for i in chars]\n",
    "final_bigram_list = bigram_with_dot + bigram_starts + bigram_with_itself\n",
    "final_bigram_list = sorted(final_bigram_list)"
   ]
  },
  {
   "cell_type": "code",
   "execution_count": 13,
   "metadata": {},
   "outputs": [],
   "source": [
    "# bigram_starts.extend(bigram_with_itself)\n",
    "# bigram_starts = sorted(bigram_starts)\n",
    "bsti = {j:i for i,j in enumerate(final_bigram_list)}\n",
    "itbs = {i:j for i,j in enumerate(final_bigram_list)}"
   ]
  },
  {
   "attachments": {},
   "cell_type": "markdown",
   "metadata": {},
   "source": [
    "Main counts tensor will be of 702 x 27 dimensions"
   ]
  },
  {
   "cell_type": "code",
   "execution_count": 14,
   "metadata": {},
   "outputs": [],
   "source": [
    "chars.extend(['.'])\n",
    "itoc = {i:j for i,j in enumerate(chars)}\n",
    "ctoi = {j:i for i,j in enumerate(chars)}"
   ]
  },
  {
   "cell_type": "code",
   "execution_count": 15,
   "metadata": {},
   "outputs": [],
   "source": [
    "#Main counts tensor\n",
    "N = torch.zeros(size = (len(final_bigram_list),27),dtype = torch.int32)"
   ]
  },
  {
   "cell_type": "code",
   "execution_count": 16,
   "metadata": {},
   "outputs": [],
   "source": [
    "for word in words:\n",
    "    chs = '.' + word + '.'\n",
    "    for i,j in enumerate(chs):\n",
    "        condition = chs[i:i+2]\n",
    "        result = chs[i+2]\n",
    "        idx_row = bsti[condition]\n",
    "        idx_col = ctoi[result]\n",
    "        N[idx_row,idx_col] += 1\n",
    "        if result == '.':\n",
    "            break"
   ]
  },
  {
   "cell_type": "code",
   "execution_count": 17,
   "metadata": {},
   "outputs": [
    {
     "name": "stdout",
     "output_type": "stream",
     "text": [
      "Negative log likelihood:  2.0931\n"
     ]
    }
   ],
   "source": [
    "#add fake counts for smoothing\n",
    "P = N + 1\n",
    "#normalizing P\n",
    "log_likelihood = 0.0\n",
    "n = 0\n",
    "P = P/P.sum(1,keepdims = True)\n",
    "for word in words:\n",
    "    chs = '.' + word + '.'\n",
    "    for i,j in enumerate(chs):\n",
    "        #e.g: .emma.\n",
    "        #P(m|.e), P(m|em), P(a|mm),P(.|ma)\n",
    "        condition = chs[i:i+2]\n",
    "        result = chs[i + 2]\n",
    "        idx_row = bsti[condition]\n",
    "        idx_col = ctoi[result]\n",
    "        prob = P[idx_row,idx_col]\n",
    "        logprob = torch.log(prob)\n",
    "        log_likelihood += logprob.item()\n",
    "        n += 1\n",
    "        if result == '.':\n",
    "            break\n",
    "print(f'Negative log likelihood: {-log_likelihood/n: .4f}')\n"
   ]
  },
  {
   "attachments": {},
   "cell_type": "markdown",
   "metadata": {},
   "source": [
    "Neural Net Model"
   ]
  },
  {
   "attachments": {},
   "cell_type": "markdown",
   "metadata": {},
   "source": [
    "Create tensor for one hot encoding. \n",
    "\n",
    "The one hot vector will be of length 702."
   ]
  },
  {
   "cell_type": "code",
   "execution_count": 58,
   "metadata": {},
   "outputs": [],
   "source": [
    "xs = []\n",
    "ys = []\n",
    "for word in words[:50]:\n",
    "    chs = '.' + word + '.'\n",
    "    for i in range(len(chs)):\n",
    "        input = chs[i:i+2]\n",
    "        result = chs[i + 2]\n",
    "        idx_input = bsti[input]\n",
    "        idx_output = ctoi[result]\n",
    "        xs.append(idx_input)\n",
    "        ys.append(idx_output)\n",
    "        if result == '.':\n",
    "            break"
   ]
  },
  {
   "cell_type": "code",
   "execution_count": 59,
   "metadata": {},
   "outputs": [
    {
     "name": "stdout",
     "output_type": "stream",
     "text": [
      "Loss :  3.6238\n",
      "Loss :  3.3120\n",
      "Loss :  3.0412\n",
      "Loss :  2.8108\n",
      "Loss :  2.6103\n",
      "Loss :  2.4321\n",
      "Loss :  2.2728\n",
      "Loss :  2.1306\n",
      "Loss :  2.0038\n",
      "Loss :  1.8906\n",
      "Loss :  1.7894\n",
      "Loss :  1.6987\n",
      "Loss :  1.6172\n",
      "Loss :  1.5438\n",
      "Loss :  1.4774\n",
      "Loss :  1.4172\n",
      "Loss :  1.3626\n",
      "Loss :  1.3129\n",
      "Loss :  1.2677\n",
      "Loss :  1.2266\n",
      "Loss :  1.1891\n",
      "Loss :  1.1550\n",
      "Loss :  1.1239\n",
      "Loss :  1.0956\n",
      "Loss :  1.0699\n",
      "Loss :  1.0465\n",
      "Loss :  1.0251\n",
      "Loss :  1.0057\n",
      "Loss :  0.9880\n",
      "Loss :  0.9718\n",
      "Loss :  0.9570\n",
      "Loss :  0.9435\n",
      "Loss :  0.9311\n",
      "Loss :  0.9198\n",
      "Loss :  0.9093\n",
      "Loss :  0.8997\n",
      "Loss :  0.8908\n",
      "Loss :  0.8825\n",
      "Loss :  0.8749\n",
      "Loss :  0.8678\n",
      "Loss :  0.8612\n",
      "Loss :  0.8550\n",
      "Loss :  0.8493\n",
      "Loss :  0.8439\n",
      "Loss :  0.8388\n",
      "Loss :  0.8341\n",
      "Loss :  0.8296\n",
      "Loss :  0.8254\n",
      "Loss :  0.8214\n",
      "Loss :  0.8177\n"
     ]
    }
   ],
   "source": [
    "lr = 50\n",
    "iter = 50\n",
    "xenc = f.one_hot(torch.tensor(xs).long(),num_classes = len(bsti)).float()\n",
    "g = torch.Generator().manual_seed(2147483647)\n",
    "W = torch.randn((xenc.shape[1],len(ctoi)),generator=g,requires_grad=True).float()\n",
    "\n",
    "for i in range(iter):\n",
    "    logits = xenc @ W\n",
    "    counts = logits.exp()\n",
    "    probs = counts/counts.sum(1,keepdims = True)\n",
    "\n",
    "    #loss\n",
    "    class_probs = probs[torch.arange(len(ys)),ys]\n",
    "    loss = -1 * class_probs.log().mean()\n",
    "    print(f\"Loss : {loss.item(): .4f}\")\n",
    "\n",
    "    W.grad = None\n",
    "    loss.backward()\n",
    "\n",
    "    #update\n",
    "    W.data += - lr*W.grad\n"
   ]
  },
  {
   "cell_type": "code",
   "execution_count": 60,
   "metadata": {},
   "outputs": [
    {
     "ename": "NameError",
     "evalue": "name 'rrrrrrrr' is not defined",
     "output_type": "error",
     "traceback": [
      "\u001b[1;31m---------------------------------------------------------------------------\u001b[0m",
      "\u001b[1;31mNameError\u001b[0m                                 Traceback (most recent call last)",
      "\u001b[1;32m<ipython-input-60-e345de3533a5>\u001b[0m in \u001b[0;36m<module>\u001b[1;34m\u001b[0m\n\u001b[1;32m----> 1\u001b[1;33m \u001b[0mrrrrrrrr\u001b[0m\u001b[1;33m\u001b[0m\u001b[1;33m\u001b[0m\u001b[0m\n\u001b[0m",
      "\u001b[1;31mNameError\u001b[0m: name 'rrrrrrrr' is not defined"
     ]
    }
   ],
   "source": [
    "rrrrrrrr"
   ]
  },
  {
   "cell_type": "code",
   "execution_count": null,
   "metadata": {},
   "outputs": [
    {
     "data": {
      "text/plain": [
       "torch.Size([702, 287])"
      ]
     },
     "execution_count": 51,
     "metadata": {},
     "output_type": "execute_result"
    }
   ],
   "source": [
    "W.shape"
   ]
  },
  {
   "cell_type": "code",
   "execution_count": null,
   "metadata": {},
   "outputs": [
    {
     "data": {
      "text/plain": [
       "torch.Size([287, 27])"
      ]
     },
     "execution_count": 54,
     "metadata": {},
     "output_type": "execute_result"
    }
   ],
   "source": [
    "(xenc @ W).shape"
   ]
  },
  {
   "cell_type": "code",
   "execution_count": null,
   "metadata": {},
   "outputs": [
    {
     "data": {
      "text/plain": [
       "torch.Size([196113])"
      ]
     },
     "execution_count": 38,
     "metadata": {},
     "output_type": "execute_result"
    }
   ],
   "source": [
    "xenc.shape"
   ]
  },
  {
   "cell_type": "code",
   "execution_count": null,
   "metadata": {},
   "outputs": [
    {
     "ename": "NameError",
     "evalue": "name 'rrrrr' is not defined",
     "output_type": "error",
     "traceback": [
      "\u001b[1;31m---------------------------------------------------------------------------\u001b[0m",
      "\u001b[1;31mNameError\u001b[0m                                 Traceback (most recent call last)",
      "\u001b[1;32m<ipython-input-18-fca52f7ff61b>\u001b[0m in \u001b[0;36m<module>\u001b[1;34m\u001b[0m\n\u001b[1;32m----> 1\u001b[1;33m \u001b[0mrrrrr\u001b[0m\u001b[1;33m\u001b[0m\u001b[1;33m\u001b[0m\u001b[0m\n\u001b[0m",
      "\u001b[1;31mNameError\u001b[0m: name 'rrrrr' is not defined"
     ]
    }
   ],
   "source": [
    "rrrrr"
   ]
  },
  {
   "cell_type": "code",
   "execution_count": null,
   "metadata": {},
   "outputs": [],
   "source": [
    "start_tensor = torch.zeros(size = (1,len(bigram_starts)),dtype = torch.int32)\n",
    "for word in words:\n",
    "    #take the first two characters\n",
    "    char_two = word[:2]\n",
    "    idx = bsti[char_two]\n",
    "    start_tensor[0,idx] += 1"
   ]
  }
 ],
 "metadata": {
  "kernelspec": {
   "display_name": "Python 3",
   "language": "python",
   "name": "python3"
  },
  "language_info": {
   "codemirror_mode": {
    "name": "ipython",
    "version": 3
   },
   "file_extension": ".py",
   "mimetype": "text/x-python",
   "name": "python",
   "nbconvert_exporter": "python",
   "pygments_lexer": "ipython3",
   "version": "3.8.8"
  },
  "orig_nbformat": 4
 },
 "nbformat": 4,
 "nbformat_minor": 2
}

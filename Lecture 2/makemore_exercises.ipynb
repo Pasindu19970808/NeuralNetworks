{
 "cells": [
  {
   "cell_type": "code",
   "execution_count": 12,
   "metadata": {},
   "outputs": [],
   "source": [
    "import numpy as np\n",
    "import torch\n",
    "import matplotlib.pyplot as plt\n",
    "from collections import Counter\n",
    "import itertools\n",
    "import torch.nn.functional as f\n",
    "from torch.utils.data import SubsetRandomSampler"
   ]
  },
  {
   "cell_type": "code",
   "execution_count": 13,
   "metadata": {},
   "outputs": [],
   "source": [
    "with open(r\"names.txt\",'r') as names_list:\n",
    "    words = [i.strip('\\n') for i in names_list.readlines()]"
   ]
  },
  {
   "attachments": {},
   "cell_type": "markdown",
   "metadata": {},
   "source": [
    "Building a TriGram Language Model"
   ]
  },
  {
   "cell_type": "code",
   "execution_count": 14,
   "metadata": {},
   "outputs": [],
   "source": [
    "#get all characters \n",
    "chars = sorted(list(set(''.join(words))))\n",
    "bigram_starts = [''.join([i,j]) for i,j in list(itertools.permutations(chars,2))]\n",
    "bigram_with_dot = [''.join(['.',i]) for i in chars]\n",
    "bigram_with_itself = [''.join([i,i]) for i in chars]\n",
    "final_bigram_list = bigram_with_dot + bigram_starts + bigram_with_itself\n",
    "final_bigram_list = sorted(final_bigram_list)"
   ]
  },
  {
   "cell_type": "code",
   "execution_count": 15,
   "metadata": {},
   "outputs": [],
   "source": [
    "# bigram_starts.extend(bigram_with_itself)\n",
    "# bigram_starts = sorted(bigram_starts)\n",
    "bsti = {j:i for i,j in enumerate(final_bigram_list)}\n",
    "itbs = {i:j for i,j in enumerate(final_bigram_list)}"
   ]
  },
  {
   "attachments": {},
   "cell_type": "markdown",
   "metadata": {},
   "source": [
    "Main counts tensor will be of 702 x 27 dimensions"
   ]
  },
  {
   "cell_type": "code",
   "execution_count": 16,
   "metadata": {},
   "outputs": [],
   "source": [
    "chars.extend(['.'])\n",
    "itoc = {i:j for i,j in enumerate(chars)}\n",
    "ctoi = {j:i for i,j in enumerate(chars)}"
   ]
  },
  {
   "cell_type": "code",
   "execution_count": 17,
   "metadata": {},
   "outputs": [],
   "source": [
    "#Main counts tensor\n",
    "N = torch.zeros(size = (len(final_bigram_list),27),dtype = torch.int32)"
   ]
  },
  {
   "cell_type": "code",
   "execution_count": 18,
   "metadata": {},
   "outputs": [],
   "source": [
    "for word in words:\n",
    "    chs = '.' + word + '.'\n",
    "    for i,j in enumerate(chs):\n",
    "        condition = chs[i:i+2]\n",
    "        result = chs[i+2]\n",
    "        idx_row = bsti[condition]\n",
    "        idx_col = ctoi[result]\n",
    "        N[idx_row,idx_col] += 1\n",
    "        if result == '.':\n",
    "            break"
   ]
  },
  {
   "cell_type": "code",
   "execution_count": 19,
   "metadata": {},
   "outputs": [
    {
     "name": "stdout",
     "output_type": "stream",
     "text": [
      "Negative log likelihood:  2.0931\n"
     ]
    }
   ],
   "source": [
    "#add fake counts for smoothing\n",
    "P = N + 1\n",
    "#normalizing P\n",
    "log_likelihood = 0.0\n",
    "n = 0\n",
    "P = P/P.sum(1,keepdims = True)\n",
    "for word in words:\n",
    "    chs = '.' + word + '.'\n",
    "    for i,j in enumerate(chs):\n",
    "        #e.g: .emma.\n",
    "        #P(m|.e), P(m|em), P(a|mm),P(.|ma)\n",
    "        condition = chs[i:i+2]\n",
    "        result = chs[i + 2]\n",
    "        idx_row = bsti[condition]\n",
    "        idx_col = ctoi[result]\n",
    "        prob = P[idx_row,idx_col]\n",
    "        logprob = torch.log(prob)\n",
    "        log_likelihood += logprob.item()\n",
    "        n += 1\n",
    "        if result == '.':\n",
    "            break\n",
    "print(f'Negative log likelihood: {-log_likelihood/n: .4f}')\n"
   ]
  },
  {
   "attachments": {},
   "cell_type": "markdown",
   "metadata": {},
   "source": [
    "Neural Net Model"
   ]
  },
  {
   "attachments": {},
   "cell_type": "markdown",
   "metadata": {},
   "source": [
    "Create tensor for one hot encoding. \n",
    "\n",
    "The one hot vector will be of length 702."
   ]
  },
  {
   "cell_type": "code",
   "execution_count": 20,
   "metadata": {},
   "outputs": [],
   "source": [
    "xs = []\n",
    "ys = []\n",
    "for word in words[:50]:\n",
    "    chs = '.' + word + '.'\n",
    "    for i in range(len(chs)):\n",
    "        input = chs[i:i+2]\n",
    "        result = chs[i + 2]\n",
    "        idx_input = bsti[input]\n",
    "        idx_output = ctoi[result]\n",
    "        xs.append(idx_input)\n",
    "        ys.append(idx_output)\n",
    "        if result == '.':\n",
    "            break"
   ]
  },
  {
   "cell_type": "code",
   "execution_count": 21,
   "metadata": {},
   "outputs": [
    {
     "data": {
      "text/plain": [
       "<module 'torch.nn.functional' from 'c:\\\\Users\\\\ASUS\\\\AppData\\\\Local\\\\Programs\\\\Python\\\\Python38\\\\lib\\\\site-packages\\\\torch\\\\nn\\\\functional.py'>"
      ]
     },
     "execution_count": 21,
     "metadata": {},
     "output_type": "execute_result"
    }
   ],
   "source": [
    "f"
   ]
  },
  {
   "cell_type": "code",
   "execution_count": 22,
   "metadata": {},
   "outputs": [
    {
     "name": "stdout",
     "output_type": "stream",
     "text": [
      "Loss :  3.6238\n",
      "Loss :  3.3120\n",
      "Loss :  3.0412\n",
      "Loss :  2.8108\n",
      "Loss :  2.6103\n",
      "Loss :  2.4321\n",
      "Loss :  2.2728\n",
      "Loss :  2.1306\n",
      "Loss :  2.0038\n",
      "Loss :  1.8906\n",
      "Loss :  1.7894\n",
      "Loss :  1.6987\n",
      "Loss :  1.6172\n",
      "Loss :  1.5438\n",
      "Loss :  1.4774\n",
      "Loss :  1.4172\n",
      "Loss :  1.3626\n",
      "Loss :  1.3129\n",
      "Loss :  1.2677\n",
      "Loss :  1.2266\n",
      "Loss :  1.1891\n",
      "Loss :  1.1550\n",
      "Loss :  1.1239\n",
      "Loss :  1.0956\n",
      "Loss :  1.0699\n",
      "Loss :  1.0465\n",
      "Loss :  1.0251\n",
      "Loss :  1.0057\n",
      "Loss :  0.9880\n",
      "Loss :  0.9718\n",
      "Loss :  0.9570\n",
      "Loss :  0.9435\n",
      "Loss :  0.9311\n",
      "Loss :  0.9198\n",
      "Loss :  0.9093\n",
      "Loss :  0.8997\n",
      "Loss :  0.8908\n",
      "Loss :  0.8825\n",
      "Loss :  0.8749\n",
      "Loss :  0.8678\n",
      "Loss :  0.8612\n",
      "Loss :  0.8550\n",
      "Loss :  0.8493\n",
      "Loss :  0.8439\n",
      "Loss :  0.8388\n",
      "Loss :  0.8341\n",
      "Loss :  0.8296\n",
      "Loss :  0.8254\n",
      "Loss :  0.8214\n",
      "Loss :  0.8177\n"
     ]
    }
   ],
   "source": [
    "lr = 50\n",
    "iter = 50\n",
    "xenc = f.one_hot(torch.tensor(xs).long(),num_classes = len(bsti)).float()\n",
    "g = torch.Generator().manual_seed(2147483647)\n",
    "W = torch.randn((xenc.shape[1],len(ctoi)),generator=g,requires_grad=True).float()\n",
    "\n",
    "for i in range(iter):\n",
    "    logits = xenc @ W\n",
    "    counts = logits.exp()\n",
    "    probs = counts/counts.sum(1,keepdims = True)\n",
    "\n",
    "    #loss\n",
    "    class_probs = probs[torch.arange(len(ys)),ys]\n",
    "    loss = -1 * class_probs.log().mean()\n",
    "    print(f\"Loss : {loss.item(): .4f}\")\n",
    "\n",
    "    W.grad = None\n",
    "    loss.backward()\n",
    "\n",
    "    #update\n",
    "    W.data += - lr*W.grad\n"
   ]
  },
  {
   "attachments": {},
   "cell_type": "markdown",
   "metadata": {},
   "source": [
    "Split up the dataset randomly into 80% train set, 10% dev set, 10% test set. Train the bigram and trigram models only on the training set. Evaluate them on dev and test splits. What can you see?"
   ]
  },
  {
   "cell_type": "code",
   "execution_count": 38,
   "metadata": {},
   "outputs": [],
   "source": [
    "def train_val_test_splits(xs,ys,train_split):\n",
    "    import math\n",
    "    assert train_split <= 0.8,\"Too high train split\"\n",
    "    total_length = len(xs)\n",
    "    g = torch.Generator().manual_seed(42)\n",
    "    indices = list(SubsetRandomSampler(range(total_length),generator=g))\n",
    "    train_idx = math.ceil(train_split*total_length)\n",
    "    remaining = total_length - train_idx\n",
    "    dev_idx = math.ceil(0.5*remaining)\n",
    "    train_set = indices[:train_idx]\n",
    "    val_set = indices[train_idx:train_idx + dev_idx]\n",
    "    test_set = indices[train_idx + dev_idx:]\n",
    "    return train_set,val_set,test_set"
   ]
  },
  {
   "cell_type": "code",
   "execution_count": 40,
   "metadata": {},
   "outputs": [],
   "source": [
    "train,val,test = train_val_test_splits(xs,ys,0.8)"
   ]
  },
  {
   "cell_type": "code",
   "execution_count": 58,
   "metadata": {},
   "outputs": [],
   "source": [
    "xs_train = np.array(xs)[train].tolist()\n",
    "ys_train = np.array(ys)[train].tolist()\n",
    "xs_val = np.array(xs)[val].tolist()\n",
    "ys_val = np.array(ys)[val].tolist()\n",
    "xs_test = np.array(xs)[test].tolist()\n",
    "ys_test = np.array(ys)[test].tolist()"
   ]
  },
  {
   "attachments": {},
   "cell_type": "markdown",
   "metadata": {},
   "source": [
    "Train on trigram model"
   ]
  },
  {
   "cell_type": "code",
   "execution_count": 60,
   "metadata": {},
   "outputs": [
    {
     "name": "stdout",
     "output_type": "stream",
     "text": [
      "Loss :  3.5871\n",
      "Loss :  3.2281\n",
      "Loss :  2.9199\n",
      "Loss :  2.6608\n",
      "Loss :  2.4370\n",
      "Loss :  2.2402\n",
      "Loss :  2.0668\n",
      "Loss :  1.9144\n",
      "Loss :  1.7803\n",
      "Loss :  1.6623\n",
      "Loss :  1.5581\n",
      "Loss :  1.4660\n",
      "Loss :  1.3844\n",
      "Loss :  1.3118\n",
      "Loss :  1.2471\n",
      "Loss :  1.1895\n",
      "Loss :  1.1381\n",
      "Loss :  1.0922\n",
      "Loss :  1.0514\n",
      "Loss :  1.0150\n",
      "Loss :  0.9826\n",
      "Loss :  0.9537\n",
      "Loss :  0.9281\n",
      "Loss :  0.9052\n",
      "Loss :  0.8848\n",
      "Loss :  0.8665\n",
      "Loss :  0.8501\n",
      "Loss :  0.8354\n",
      "Loss :  0.8221\n",
      "Loss :  0.8101\n",
      "Loss :  0.7992\n",
      "Loss :  0.7893\n",
      "Loss :  0.7803\n",
      "Loss :  0.7720\n",
      "Loss :  0.7644\n",
      "Loss :  0.7574\n",
      "Loss :  0.7510\n",
      "Loss :  0.7450\n",
      "Loss :  0.7395\n",
      "Loss :  0.7343\n",
      "Loss :  0.7295\n",
      "Loss :  0.7250\n",
      "Loss :  0.7208\n",
      "Loss :  0.7169\n",
      "Loss :  0.7132\n",
      "Loss :  0.7097\n",
      "Loss :  0.7065\n",
      "Loss :  0.7034\n",
      "Loss :  0.7005\n",
      "Loss :  0.6977\n"
     ]
    }
   ],
   "source": [
    "lr = 50\n",
    "iter = 50\n",
    "xenc = f.one_hot(torch.tensor(xs_train).long(),num_classes = len(bsti)).float()\n",
    "g = torch.Generator().manual_seed(2147483647)\n",
    "W = torch.randn((xenc.shape[1],len(ctoi)),generator=g,requires_grad=True).float()\n",
    "\n",
    "for i in range(iter):\n",
    "    logits = xenc @ W\n",
    "    counts = logits.exp()\n",
    "    probs = counts/counts.sum(1,keepdims = True)\n",
    "\n",
    "    #loss\n",
    "    class_probs = probs[torch.arange(len(ys_train)),ys_train]\n",
    "    loss = -1 * class_probs.log().mean()\n",
    "    print(f\"Loss : {loss.item(): .4f}\")\n",
    "\n",
    "    W.grad = None\n",
    "    loss.backward()\n",
    "\n",
    "    #update\n",
    "    W.data += - lr*W.grad\n",
    "print(f\"Final Loss\")"
   ]
  },
  {
   "cell_type": "code",
   "execution_count": 48,
   "metadata": {},
   "outputs": [
    {
     "ename": "TypeError",
     "evalue": "list indices must be integers or slices, not list",
     "output_type": "error",
     "traceback": [
      "\u001b[1;31m---------------------------------------------------------------------------\u001b[0m",
      "\u001b[1;31mTypeError\u001b[0m                                 Traceback (most recent call last)",
      "\u001b[1;32m<ipython-input-48-f45ef7877a21>\u001b[0m in \u001b[0;36m<module>\u001b[1;34m\u001b[0m\n\u001b[1;32m----> 1\u001b[1;33m \u001b[0mxs\u001b[0m\u001b[1;33m[\u001b[0m\u001b[0mtrain\u001b[0m\u001b[1;33m]\u001b[0m\u001b[1;33m\u001b[0m\u001b[1;33m\u001b[0m\u001b[0m\n\u001b[0m",
      "\u001b[1;31mTypeError\u001b[0m: list indices must be integers or slices, not list"
     ]
    }
   ],
   "source": [
    "xs[train]"
   ]
  },
  {
   "cell_type": "code",
   "execution_count": null,
   "metadata": {},
   "outputs": [],
   "source": [
    "train_ds = xs[]"
   ]
  }
 ],
 "metadata": {
  "kernelspec": {
   "display_name": "Python 3",
   "language": "python",
   "name": "python3"
  },
  "language_info": {
   "codemirror_mode": {
    "name": "ipython",
    "version": 3
   },
   "file_extension": ".py",
   "mimetype": "text/x-python",
   "name": "python",
   "nbconvert_exporter": "python",
   "pygments_lexer": "ipython3",
   "version": "3.8.8"
  },
  "orig_nbformat": 4
 },
 "nbformat": 4,
 "nbformat_minor": 2
}
